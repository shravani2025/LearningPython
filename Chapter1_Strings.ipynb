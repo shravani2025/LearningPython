{
 "cells": [
  {
   "cell_type": "markdown",
   "id": "f1f6b83a",
   "metadata": {},
   "source": [
    "# Strings.\n"
   ]
  },
  {
   "cell_type": "markdown",
   "id": "e984ba60",
   "metadata": {},
   "source": [
    "### String is a fundamental data type, used to represent texts.\n"
   ]
  },
  {
   "cell_type": "markdown",
   "id": "0e9d49d0",
   "metadata": {},
   "source": [
    "* Str has Character,Sequence,Length.\n",
    "\n",
    "* Str with quotation marks is String literal.\n",
    "\n",
    "* Str are immutable, cannot be changed."
   ]
  },
  {
   "cell_type": "code",
   "execution_count": 45,
   "id": "22dfac91",
   "metadata": {},
   "outputs": [
    {
     "data": {
      "text/plain": [
       "'Shravani G'"
      ]
     },
     "execution_count": 45,
     "metadata": {},
     "output_type": "execute_result"
    }
   ],
   "source": [
    "Name=\"Shravani G\"\n",
    "Name"
   ]
  },
  {
   "cell_type": "markdown",
   "id": "b0f8960d",
   "metadata": {},
   "source": [
    "#### To know the length of a string including spaces.\n"
   ]
  },
  {
   "cell_type": "code",
   "execution_count": 7,
   "id": "631f2723",
   "metadata": {},
   "outputs": [
    {
     "data": {
      "text/plain": [
       "10"
      ]
     },
     "execution_count": 7,
     "metadata": {},
     "output_type": "execute_result"
    }
   ],
   "source": [
    "len(Name)"
   ]
  },
  {
   "cell_type": "markdown",
   "id": "14e0452c",
   "metadata": {},
   "source": [
    "#### Concatenation is joining 2 strings\n"
   ]
  },
  {
   "cell_type": "code",
   "execution_count": 8,
   "id": "8599db20",
   "metadata": {},
   "outputs": [
    {
     "data": {
      "text/plain": [
       "'Shravs Sweeto'"
      ]
     },
     "execution_count": 8,
     "metadata": {},
     "output_type": "execute_result"
    }
   ],
   "source": [
    "F_Name=\"Shravs\"\n",
    "L_Name=\"Sweeto\"\n",
    "Full_Name=F_Name + \" \" + L_Name\n",
    "Full_Name"
   ]
  },
  {
   "cell_type": "code",
   "execution_count": null,
   "id": "0c664f7b",
   "metadata": {},
   "outputs": [],
   "source": [
    "##Indexing ~ Each char in string has index starting from 0\n",
    "\n",
    "Name=\"Shravani\"\n",
    "#Name[1]\n"
   ]
  },
  {
   "cell_type": "markdown",
   "id": "af1efb67",
   "metadata": {},
   "source": [
    "### Slicing"
   ]
  },
  {
   "cell_type": "code",
   "execution_count": 3,
   "id": "1ec304a4",
   "metadata": {},
   "outputs": [],
   "source": [
    "#Name[-1] to get the last char.\n",
    "\n",
    "#Name[1:4] in between char.\n",
    "\n",
    "#Name[:5] till the given char.\n",
    "\n",
    "#Name[4:] from the given char.\n",
    "\n",
    "#Name[::-1] to get in reverse order.\n",
    "\n",
    "#Name[0::2] gets only even indexed char."
   ]
  },
  {
   "cell_type": "markdown",
   "id": "c34eaf45",
   "metadata": {},
   "source": [
    "### String special functions called \" String Methods \"\n"
   ]
  },
  {
   "cell_type": "code",
   "execution_count": null,
   "id": "2c262ae1",
   "metadata": {},
   "outputs": [],
   "source": [
    "\n",
    "Name=\"Honey\"\n",
    "\n",
    "#Name.upper()\n",
    "#Name.lower()\n",
    "\n",
    "#The actual variable name isn't changed, to change it assign it to a new variable."
   ]
  },
  {
   "cell_type": "markdown",
   "id": "c5423735",
   "metadata": {},
   "source": [
    "#### To remove white spaces in string literals.\n"
   ]
  },
  {
   "cell_type": "code",
   "execution_count": 9,
   "id": "7ca187f8",
   "metadata": {},
   "outputs": [
    {
     "data": {
      "text/plain": [
       "'Gannoji Shravani'"
      ]
     },
     "execution_count": 9,
     "metadata": {},
     "output_type": "execute_result"
    }
   ],
   "source": [
    "Name=\"   Gannoji Shravani   \"\n",
    "#Name.lstrip()\n",
    "#Name.rstrip()\n",
    "Name.strip()"
   ]
  },
  {
   "cell_type": "markdown",
   "id": "c751b7fb",
   "metadata": {},
   "source": [
    "#### To find the string start and the end char. with boolean data type.~TRUE OR FALSE.\n"
   ]
  },
  {
   "cell_type": "code",
   "execution_count": null,
   "id": "18ab122f",
   "metadata": {},
   "outputs": [],
   "source": [
    "Name=\"Honey\"\n",
    "#Name.startswith(\"Hn\")\n",
    "#Name.endswith(\"ey\")"
   ]
  },
  {
   "cell_type": "code",
   "execution_count": 1,
   "id": "3a5b484b",
   "metadata": {},
   "outputs": [
    {
     "name": "stdout",
     "output_type": "stream",
     "text": [
      "Rana\n",
      "Enter your Name Rana\n"
     ]
    }
   ],
   "source": [
    "#Interacting with user Input.\n",
    "# --------------------------------------revise again...\n",
    "#input()\n",
    "# Bank='PIN'\n",
    "# user_input=input()\n",
    "# print('Type your PIN',user_input)\n",
    "\n",
    "Account_Name='Rana'\n",
    "user_input=input()\n",
    "print('Enter your Name',user_input)"
   ]
  },
  {
   "cell_type": "markdown",
   "id": "9be45ba3",
   "metadata": {},
   "source": [
    "#### Converting str into numbers(int,float)\n"
   ]
  },
  {
   "cell_type": "code",
   "execution_count": 2,
   "id": "a296e9a0",
   "metadata": {},
   "outputs": [
    {
     "data": {
      "text/plain": [
       "'24'"
      ]
     },
     "execution_count": 2,
     "metadata": {},
     "output_type": "execute_result"
    }
   ],
   "source": [
    "# num1=\"2\"\n",
    "# num2=\"3\"\n",
    "# num=num1+num2\n",
    "# print(num)\n",
    "\n",
    "string1='2'\n",
    "string2='4'\n",
    "string_float=string1+string2\n",
    "string_float"
   ]
  },
  {
   "cell_type": "code",
   "execution_count": 22,
   "id": "6e975df8",
   "metadata": {},
   "outputs": [
    {
     "data": {
      "text/plain": [
       "'I ate 10 pancakes today'"
      ]
     },
     "execution_count": 22,
     "metadata": {},
     "output_type": "execute_result"
    }
   ],
   "source": [
    "#Cannot change str into int.\n",
    "Pancakes=\"10\"\n",
    "#Today= \"I ate \" + str(Pancakes) + \" pancakes today\"\n",
    "OR.\n",
    "#Today= \"I ate \" + str(10) + \" pancakes today\"\n",
    "Today\n",
    "\n",
    "\n",
    "#Can also use arthematics\n",
    "#Today= \"I ate \" + str(Pancakes -,+ ) + \" pancakes today\"\n"
   ]
  },
  {
   "cell_type": "markdown",
   "id": "1ae2d485",
   "metadata": {},
   "source": [
    "#### Streamline print statements.\n"
   ]
  },
  {
   "cell_type": "code",
   "execution_count": 5,
   "id": "87d3ce96",
   "metadata": {},
   "outputs": [
    {
     "name": "stdout",
     "output_type": "stream",
     "text": [
      "House has 2 rooms and 2 baths\n"
     ]
    }
   ],
   "source": [
    "Name='House'\n",
    "rooms='2'\n",
    "baths='2'\n",
    "\n",
    "print(Name + \" has \" + str(rooms) + \" rooms\" + \" and \" + str(baths)+ \" baths\")\n"
   ]
  },
  {
   "cell_type": "markdown",
   "id": "5ee07d1f",
   "metadata": {},
   "source": [
    "Another method formatted string literals.\n"
   ]
  },
  {
   "cell_type": "code",
   "execution_count": 6,
   "id": "07a5c710",
   "metadata": {},
   "outputs": [
    {
     "data": {
      "text/plain": [
       "' House has 2 rooms and 2 baths'"
      ]
     },
     "execution_count": 6,
     "metadata": {},
     "output_type": "execute_result"
    }
   ],
   "source": [
    "f\" {Name} has {rooms} rooms and {baths} baths\""
   ]
  },
  {
   "cell_type": "markdown",
   "id": "84ac2add",
   "metadata": {},
   "source": [
    "#### Finding a string using .find()"
   ]
  },
  {
   "cell_type": "code",
   "execution_count": 4,
   "id": "d02ae173",
   "metadata": {},
   "outputs": [
    {
     "data": {
      "text/plain": [
       "7"
      ]
     },
     "execution_count": 4,
     "metadata": {},
     "output_type": "execute_result"
    }
   ],
   "source": [
    "# it is case sensitive and will consider  the first appeard string. if not output is -1.\n",
    "\n",
    "Note=\"I've a bad headache.\"\n",
    "Note.find(\"bad\")"
   ]
  },
  {
   "cell_type": "markdown",
   "id": "6cb78770",
   "metadata": {},
   "source": [
    "#### Replacing a string using   .replace()\n"
   ]
  },
  {
   "cell_type": "code",
   "execution_count": 7,
   "id": "d3233e1b",
   "metadata": {},
   "outputs": [
    {
     "data": {
      "text/plain": [
       "'It was a bad one'"
      ]
     },
     "execution_count": 7,
     "metadata": {},
     "output_type": "execute_result"
    }
   ],
   "source": [
    "#replace doesn't change the original variable, to change it add it to a new variable.\n",
    "\n",
    "Movie=\"It was a good one\"\n",
    "Movie.replace(\"good\",\"bad\")"
   ]
  }
 ],
 "metadata": {
  "kernelspec": {
   "display_name": "Python 3 (ipykernel)",
   "language": "python",
   "name": "python3"
  },
  "language_info": {
   "codemirror_mode": {
    "name": "ipython",
    "version": 3
   },
   "file_extension": ".py",
   "mimetype": "text/x-python",
   "name": "python",
   "nbconvert_exporter": "python",
   "pygments_lexer": "ipython3",
   "version": "3.10.0"
  }
 },
 "nbformat": 4,
 "nbformat_minor": 5
}
