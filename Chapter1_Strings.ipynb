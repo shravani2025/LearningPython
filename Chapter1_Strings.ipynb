{
 "cells": [
  {
   "cell_type": "markdown",
   "id": "f1f6b83a",
   "metadata": {},
   "source": [
    "# Strings.\n"
   ]
  },
  {
   "cell_type": "markdown",
   "id": "0e9d49d0",
   "metadata": {},
   "source": [
    "String is a fundamental data type, used to represent texts.\n",
    "\n",
    "1.Str has Character,Sequence,Length.\n",
    "2.Str with quotation marks is String literal\n",
    "3.Str are immutable, cannot be changed."
   ]
  },
  {
   "cell_type": "code",
   "execution_count": 45,
   "id": "22dfac91",
   "metadata": {},
   "outputs": [
    {
     "data": {
      "text/plain": [
       "'Shravani G'"
      ]
     },
     "execution_count": 45,
     "metadata": {},
     "output_type": "execute_result"
    }
   ],
   "source": [
    "Name=\"Shravani G\"\n",
    "Name"
   ]
  },
  {
   "cell_type": "code",
   "execution_count": 7,
   "id": "631f2723",
   "metadata": {},
   "outputs": [
    {
     "data": {
      "text/plain": [
       "10"
      ]
     },
     "execution_count": 7,
     "metadata": {},
     "output_type": "execute_result"
    }
   ],
   "source": [
    "#To know the length of a string including spaces.\n",
    "\n",
    "len(Name)"
   ]
  },
  {
   "cell_type": "code",
   "execution_count": 8,
   "id": "8599db20",
   "metadata": {},
   "outputs": [
    {
     "data": {
      "text/plain": [
       "'Shravs Sweeto'"
      ]
     },
     "execution_count": 8,
     "metadata": {},
     "output_type": "execute_result"
    }
   ],
   "source": [
    "#Concatenation is joining 2 str\n",
    "\n",
    "F_Name=\"Shravs\"\n",
    "L_Name=\"Sweeto\"\n",
    "Full_Name=F_Name + \" \" + L_Name\n",
    "Full_Name"
   ]
  },
  {
   "cell_type": "code",
   "execution_count": null,
   "id": "0c664f7b",
   "metadata": {},
   "outputs": [],
   "source": [
    "##Indexing ~ Each char in string has index starting from 0\n",
    "\n",
    "Name=\"Shravani\"\n",
    "#Name[1]\n",
    "---------------------------------\n",
    "#Slicing\n",
    "\n",
    "#Name[-1] to get the last char.\n",
    "\n",
    "#Name[1:4] in between char.\n",
    "\n",
    "#Name[:5] till the given char.\n",
    "\n",
    "#Name[4:]from the given char.\n",
    "\n",
    "#Name[::-1]to get in reverse order."
   ]
  },
  {
   "cell_type": "code",
   "execution_count": null,
   "id": "2c262ae1",
   "metadata": {},
   "outputs": [],
   "source": [
    "#String special functions called String Methods\n",
    "\n",
    "Name=\"Honey\"\n",
    "\n",
    "#Name.upper()\n",
    "#Name.lower()\n",
    "\n",
    "#The actual variable name isn't changed, to change it assign it to a new variable."
   ]
  },
  {
   "cell_type": "code",
   "execution_count": 9,
   "id": "7ca187f8",
   "metadata": {},
   "outputs": [
    {
     "data": {
      "text/plain": [
       "'Gannoji Shravani'"
      ]
     },
     "execution_count": 9,
     "metadata": {},
     "output_type": "execute_result"
    }
   ],
   "source": [
    "#To remove white spaces in string literals.\n",
    "\n",
    "Name=\"   Gannoji Shravani   \"\n",
    "#Name.lstrip()\n",
    "#Name.rstrip()\n",
    "Name.strip()"
   ]
  },
  {
   "cell_type": "code",
   "execution_count": null,
   "id": "18ab122f",
   "metadata": {},
   "outputs": [],
   "source": [
    "#To find the string start and the end char. with boolean data type.~TRUE OR FALSE.\n",
    "\n",
    "Name=\"Honey\"\n",
    "#Name.startswith(\"Hn\")\n",
    "#Name.endswith(\"ey\")"
   ]
  },
  {
   "cell_type": "code",
   "execution_count": 1,
   "id": "3a5b484b",
   "metadata": {},
   "outputs": [
    {
     "name": "stdout",
     "output_type": "stream",
     "text": [
      "WinterWorld\n",
      "Type your PIN WinterWorld\n"
     ]
    }
   ],
   "source": [
    "#Interacting with user Input.\n",
    "# --------------------------------------revise again...\n",
    "#input()\n",
    "Bank='PIN'\n",
    "user_input=input()\n",
    "print('Type your PIN',user_input)"
   ]
  },
  {
   "cell_type": "code",
   "execution_count": 10,
   "id": "a296e9a0",
   "metadata": {},
   "outputs": [
    {
     "name": "stdout",
     "output_type": "stream",
     "text": [
      "23\n"
     ]
    }
   ],
   "source": [
    "#Converting str into numbers(int,float)\n",
    "\n",
    "num1=\"2\"\n",
    "num2=\"3\"\n",
    "num=num1+num2\n",
    "print(num)"
   ]
  },
  {
   "cell_type": "code",
   "execution_count": 22,
   "id": "6e975df8",
   "metadata": {},
   "outputs": [
    {
     "data": {
      "text/plain": [
       "'I ate 10 pancakes today'"
      ]
     },
     "execution_count": 22,
     "metadata": {},
     "output_type": "execute_result"
    }
   ],
   "source": [
    "#Cannot change str into int.\n",
    "Pancakes=\"10\"\n",
    "#Today= \"I ate \" + str(Pancakes) + \" pancakes today\"\n",
    "OR.\n",
    "#Today= \"I ate \" + str(10) + \" pancakes today\"\n",
    "Today\n",
    "\n",
    "\n",
    "#Can also use arthematics\n",
    "#Today= \"I ate \" + str(Pancakes -,+ ) + \" pancakes today\"\n"
   ]
  },
  {
   "cell_type": "code",
   "execution_count": 38,
   "id": "87d3ce96",
   "metadata": {},
   "outputs": [
    {
     "data": {
      "text/plain": [
       "' House has 2 rooms and 2 baths'"
      ]
     },
     "execution_count": 38,
     "metadata": {},
     "output_type": "execute_result"
    }
   ],
   "source": [
    "#Streamline print statements.\n",
    "Name='House'\n",
    "rooms='2'\n",
    "baths='2'\n",
    "\n",
    "#print(Name + \" has \" + str(rooms) + \" rooms\" + \" and \" + str(baths)+ \" baths\")\n",
    "#another method formatted string literals.\n",
    "f\" {Name} has {rooms} rooms and {baths} baths\""
   ]
  },
  {
   "cell_type": "code",
   "execution_count": 41,
   "id": "d02ae173",
   "metadata": {},
   "outputs": [
    {
     "data": {
      "text/plain": [
       "7"
      ]
     },
     "execution_count": 41,
     "metadata": {},
     "output_type": "execute_result"
    }
   ],
   "source": [
    "#Find a string in a string.  ~  .find() , it is case sensitive and will consider  the first appared string. if not output is -1.\n",
    "Note=\"I've a bad headache.\"\n",
    "Note.find(\"bad\")"
   ]
  },
  {
   "cell_type": "code",
   "execution_count": 1,
   "id": "d3233e1b",
   "metadata": {},
   "outputs": [
    {
     "data": {
      "text/plain": [
       "'It was a bad one'"
      ]
     },
     "execution_count": 1,
     "metadata": {},
     "output_type": "execute_result"
    }
   ],
   "source": [
    "#Replacing a string ~ .replace()\n",
    "\n",
    "#replace doesn't change the original variable, to change it add it to a new variable.\n",
    "Movie=\"It was a good one\"\n",
    "Movie.replace(\"good\",\"bad\")"
   ]
  }
 ],
 "metadata": {
  "kernelspec": {
   "display_name": "Python 3 (ipykernel)",
   "language": "python",
   "name": "python3"
  },
  "language_info": {
   "codemirror_mode": {
    "name": "ipython",
    "version": 3
   },
   "file_extension": ".py",
   "mimetype": "text/x-python",
   "name": "python",
   "nbconvert_exporter": "python",
   "pygments_lexer": "ipython3",
   "version": "3.10.0"
  }
 },
 "nbformat": 4,
 "nbformat_minor": 5
}
