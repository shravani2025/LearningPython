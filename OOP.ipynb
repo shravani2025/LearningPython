{
 "cells": [
  {
   "cell_type": "markdown",
   "id": "a7f5342b",
   "metadata": {},
   "source": [
    "### OOP (Object-Oriented Programming)\n",
    "\n"
   ]
  },
  {
   "cell_type": "markdown",
   "id": "50373a0e",
   "metadata": {},
   "source": [
    "\"Python is object oriented programming language\".\n",
    "\n",
    "Almost all the code in python is implemented on a special  structur called classes, which is a code template used to creative objects."
   ]
  },
  {
   "cell_type": "markdown",
   "id": "336c836a",
   "metadata": {},
   "source": [
    "#### Class"
   ]
  },
  {
   "cell_type": "markdown",
   "id": "2ab87828",
   "metadata": {},
   "source": [
    "Class is like a blue print or a code template, used to create Objects"
   ]
  },
  {
   "cell_type": "markdown",
   "id": "28e319de",
   "metadata": {},
   "source": [
    "#### Object "
   ]
  },
  {
   "cell_type": "markdown",
   "id": "c905f731",
   "metadata": {},
   "source": [
    "An Object contains attributes(variables) and methods, we use objects of a class to perform actions."
   ]
  },
  {
   "cell_type": "markdown",
   "id": "14b8aca8",
   "metadata": {},
   "source": [
    "Object as 2 characteristics:\n",
    "\n",
    "States and Behavior\n",
    "\n",
    "* Attributes represents its State.\n",
    "* Methods represents its Behavior.\n",
    "\n",
    "Using its Methods we can modify its State."
   ]
  },
  {
   "cell_type": "markdown",
   "id": "aa25e473",
   "metadata": {},
   "source": [
    "#### Properties of Object:"
   ]
  },
  {
   "cell_type": "markdown",
   "id": "792528dd",
   "metadata": {},
   "source": [
    "#### Identity:\n",
    "\n",
    "Every object has an indvidual Identity."
   ]
  },
  {
   "cell_type": "markdown",
   "id": "3fa2d2ad",
   "metadata": {},
   "source": [
    "#### State:\n",
    "An object has an attribute to represent its state and reflects the property of an Object.\n"
   ]
  },
  {
   "cell_type": "markdown",
   "id": "02f14995",
   "metadata": {},
   "source": [
    "#### Behavior:\n",
    "An object has a methods that represents its Behavior."
   ]
  },
  {
   "cell_type": "markdown",
   "id": "6add8fcc",
   "metadata": {},
   "source": [
    " * As we know Python is an OOP language, so every thing in Python is treated like an Object.\n",
    " *  An objecct is a real  life  entity.\n",
    " *  An object collects various Data and functions that operate on those data."
   ]
  },
  {
   "cell_type": "markdown",
   "id": "0df5ec42",
   "metadata": {},
   "source": [
    "#### Creating a Class in Python."
   ]
  },
  {
   "cell_type": "code",
   "execution_count": 4,
   "id": "f48dbcc4",
   "metadata": {},
   "outputs": [],
   "source": [
    "class Person:\n",
    "    def _init_(self,Name,Sex,Place):\n",
    "        self.Name= Name\n",
    "        self.Sex= Sex\n",
    "        self.Place=Place\n",
    "    \n",
    "    def show(self):\n",
    "        print('Name:', self.Name, 'Sex:', self.Sex, 'Place:', self.Place)\n",
    "        \n",
    "    def detailed(self):\n",
    "        print(self.Name,\"stayed at\",self.place)"
   ]
  },
  {
   "cell_type": "markdown",
   "id": "105217fa",
   "metadata": {},
   "source": [
    "#### Creating Object of a Class."
   ]
  },
  {
   "cell_type": "markdown",
   "id": "ea4d7072",
   "metadata": {},
   "source": [
    "When we create an Object to the class, it becomes instantiation and the object becomes an instance.\n",
    "\n",
    "* Creating an Object has 2 parts:\n",
    "\n",
    "1.Object Creation.\n",
    "2.Object initialization."
   ]
  },
  {
   "cell_type": "markdown",
   "id": "e3b5b5c4",
   "metadata": {},
   "source": [
    "Syntax\n",
    "\n",
    "object-name = class-name(arguments)  "
   ]
  },
  {
   "cell_type": "code",
   "execution_count": 4,
   "id": "524ceeeb",
   "metadata": {},
   "outputs": [
    {
     "name": "stdout",
     "output_type": "stream",
     "text": [
      "Name: Rana Sex:  Male Place:  Hyderabad\n",
      "Rana stay's at  Hyderabad\n"
     ]
    }
   ],
   "source": [
    "class Person:\n",
    "    def __init__(self,Name,Sex,Place):\n",
    "        self.Name= Name\n",
    "        self.Sex= Sex\n",
    "        self.Place= Place\n",
    "    \n",
    "    def show(self):\n",
    "        print('Name:', self.Name, 'Sex:', self.Sex, 'Place:', self.Place)\n",
    "        \n",
    "    def detailed(self):\n",
    "        print(self.Name,\"stay's at\",self.Place)\n",
    "        \n",
    "#creating an Object\n",
    "\n",
    "Rana = Person('Rana' , ' Male' , ' Hyderabad')\n",
    "\n",
    "#call Methods\n",
    "\n",
    "Rana.show()\n",
    "Rana.detailed()"
   ]
  },
  {
   "cell_type": "markdown",
   "id": "a660fa55",
   "metadata": {},
   "source": [
    "#### Class Attributes"
   ]
  },
  {
   "cell_type": "markdown",
   "id": "98a46d4f",
   "metadata": {},
   "source": [
    "When we design a class, we use instance variable and class variables."
   ]
  },
  {
   "cell_type": "markdown",
   "id": "9741f41f",
   "metadata": {},
   "source": [
    "#### Instance variable: \n",
    "It is inside the Object Body and every object as its own Instance variable."
   ]
  },
  {
   "cell_type": "markdown",
   "id": "7609ae0c",
   "metadata": {},
   "source": [
    "#### Class variable:\n",
    "\n",
    "It is attached to the class and can be shared to all the objects. "
   ]
  },
  {
   "cell_type": "code",
   "execution_count": 6,
   "id": "584dc6cd",
   "metadata": {},
   "outputs": [
    {
     "name": "stdout",
     "output_type": "stream",
     "text": [
      "student: rana 21\n",
      "school: krcs\n",
      "student: Deepu 30\n",
      "school: abc school\n"
     ]
    }
   ],
   "source": [
    "#### Student details and School details.\n",
    "\n",
    "\n",
    "\n",
    "class Students:\n",
    "    #class variable.\n",
    "    school_name=\"krcs\"\n",
    "    def __init__(self,name,age):\n",
    "        #instance variable.\n",
    "        self.name=name\n",
    "        self.age=age\n",
    "# Acessesing instance variable.\n",
    "s1=Students(\"rana\",21)\n",
    "print(\"student:\",s1.name,s1.age)\n",
    "#Acessesing class variable.\n",
    "print(\"school:\",Students.school_name)\n",
    "\n",
    "\n",
    "#modify instance variables.\n",
    "s1.name=\"Deepu\"\n",
    "s1.age=30\n",
    "print(\"student:\",s1.name,s1.age)\n",
    "\n",
    "#modify class variables.\n",
    "Students.school_name=\"abc school\"\n",
    "print(\"school:\",Students.school_name)\n"
   ]
  },
  {
   "cell_type": "markdown",
   "id": "70cd0336",
   "metadata": {},
   "source": [
    "### Class Methods:\n"
   ]
  },
  {
   "cell_type": "markdown",
   "id": "d5ed4c0d",
   "metadata": {},
   "source": [
    "Inside a class, we can define the following  3 types of  methods."
   ]
  },
  {
   "cell_type": "markdown",
   "id": "7332f705",
   "metadata": {},
   "source": [
    "* Instance Method\n",
    "* Class Method\n",
    "* Static Method"
   ]
  },
  {
   "cell_type": "markdown",
   "id": "47723984",
   "metadata": {},
   "source": [
    "### Constructors in Python\n"
   ]
  },
  {
   "cell_type": "markdown",
   "id": "3cbd12f0",
   "metadata": {},
   "source": [
    "A constructor is used to initialize and create the object  of a class.\n",
    "\n",
    "There're 2 methods of Object creation \n",
    "* Object creation\n",
    "__new__  is used for Object creation\n",
    "\n",
    "* Object Initialization.\n",
    "__init__() is used to Initialize the Object into class\n",
    "\n",
    "The construtor can any number of arguments."
   ]
  },
  {
   "cell_type": "code",
   "execution_count": 10,
   "id": "3b8224db",
   "metadata": {},
   "outputs": [],
   "source": [
    "#syntax\n",
    "\n",
    "def __init__(self):\n",
    "    #body of the constructor."
   ]
  },
  {
   "cell_type": "code",
   "execution_count": 9,
   "id": "19603672",
   "metadata": {},
   "outputs": [
    {
     "name": "stdout",
     "output_type": "stream",
     "text": [
      "Inside Constructor\n",
      "All variables initialized\n",
      "Hello, my name is Rana\n"
     ]
    }
   ],
   "source": [
    "class Student:\n",
    "\n",
    "    # constructor\n",
    "    # initialize instance variable\n",
    "    def __init__(self, name):\n",
    "        print('Inside Constructor')\n",
    "        self.name = name\n",
    "        print('All variables initialized')\n",
    "\n",
    "    # instance Method\n",
    "    def show(self):\n",
    "        print('Hello, my name is', self.name)\n",
    "\n",
    "\n",
    "# create object using constructor\n",
    "s1 = Student('Rana')\n",
    "s1.show()"
   ]
  },
  {
   "cell_type": "code",
   "execution_count": null,
   "id": "f1833f2b",
   "metadata": {},
   "outputs": [],
   "source": []
  }
 ],
 "metadata": {
  "kernelspec": {
   "display_name": "Python 3 (ipykernel)",
   "language": "python",
   "name": "python3"
  },
  "language_info": {
   "codemirror_mode": {
    "name": "ipython",
    "version": 3
   },
   "file_extension": ".py",
   "mimetype": "text/x-python",
   "name": "python",
   "nbconvert_exporter": "python",
   "pygments_lexer": "ipython3",
   "version": "3.10.0"
  }
 },
 "nbformat": 4,
 "nbformat_minor": 5
}
