{
 "cells": [
  {
   "cell_type": "markdown",
   "id": "a7f5342b",
   "metadata": {},
   "source": [
    "### OOP (Object-Oriented Programming)\n",
    "\n"
   ]
  },
  {
   "cell_type": "markdown",
   "id": "82a60621",
   "metadata": {},
   "source": [
    "\"Python is object oriented programming language\".\n",
    "\n",
    "Almost all the code in python is implemented on a special  structur called classes, which is code template used to creative objects."
   ]
  },
  {
   "cell_type": "markdown",
   "id": "9aab67d6",
   "metadata": {},
   "source": [
    "#### Code"
   ]
  },
  {
   "cell_type": "markdown",
   "id": "50a560b2",
   "metadata": {},
   "source": [
    "CODE is like a blue print or a template, used to creative Objects"
   ]
  },
  {
   "cell_type": "markdown",
   "id": "909252be",
   "metadata": {},
   "source": [
    "#### Object "
   ]
  },
  {
   "cell_type": "markdown",
   "id": "7842a9ce",
   "metadata": {},
   "source": [
    "An Object contains attributes or variables and methods, we use objects of a class to perform actions."
   ]
  },
  {
   "cell_type": "markdown",
   "id": "460b3a25",
   "metadata": {},
   "source": [
    "Object as 2 characteristics:\n",
    "\n",
    "States and Behavior\n",
    "\n",
    "* Attributes represents its State.\n",
    "* Methods represents its Behavior.\n",
    "\n",
    "Using its Methods we can modify its State."
   ]
  },
  {
   "cell_type": "markdown",
   "id": "52e383af",
   "metadata": {},
   "source": [
    "#### Properties of Object:"
   ]
  },
  {
   "cell_type": "markdown",
   "id": "c8ce30af",
   "metadata": {},
   "source": [
    "#### Identity:\n",
    "\n",
    "Every object has an indvidual Identity."
   ]
  },
  {
   "cell_type": "markdown",
   "id": "7e95da23",
   "metadata": {},
   "source": [
    "#### State:\n",
    "An object has an attribute to represent its state and property of an Object.\n"
   ]
  },
  {
   "cell_type": "markdown",
   "id": "77499524",
   "metadata": {},
   "source": [
    "#### Behavior:\n",
    "An object has a methods that represents its Behavior."
   ]
  },
  {
   "cell_type": "code",
   "execution_count": null,
   "id": "0a918052",
   "metadata": {},
   "outputs": [],
   "source": []
  }
 ],
 "metadata": {
  "kernelspec": {
   "display_name": "Python 3 (ipykernel)",
   "language": "python",
   "name": "python3"
  },
  "language_info": {
   "codemirror_mode": {
    "name": "ipython",
    "version": 3
   },
   "file_extension": ".py",
   "mimetype": "text/x-python",
   "name": "python",
   "nbconvert_exporter": "python",
   "pygments_lexer": "ipython3",
   "version": "3.10.0"
  }
 },
 "nbformat": 4,
 "nbformat_minor": 5
}
