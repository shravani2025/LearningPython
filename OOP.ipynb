{
 "cells": [
  {
   "cell_type": "markdown",
   "id": "a7f5342b",
   "metadata": {},
   "source": [
    "### OOP (Object-Oriented Programming)\n",
    "\n"
   ]
  },
  {
   "cell_type": "markdown",
   "id": "390e2ce5",
   "metadata": {},
   "source": [
    "\"Python is object oriented programming language\".\n",
    "\n",
    "Almost all the code in python is implemented on a special  structur called classes, which is code template used to creative objects."
   ]
  }
 ],
 "metadata": {
  "kernelspec": {
   "display_name": "Python 3 (ipykernel)",
   "language": "python",
   "name": "python3"
  },
  "language_info": {
   "codemirror_mode": {
    "name": "ipython",
    "version": 3
   },
   "file_extension": ".py",
   "mimetype": "text/x-python",
   "name": "python",
   "nbconvert_exporter": "python",
   "pygments_lexer": "ipython3",
   "version": "3.10.0"
  }
 },
 "nbformat": 4,
 "nbformat_minor": 5
}
