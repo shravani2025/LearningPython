{
 "cells": [
  {
   "cell_type": "markdown",
   "id": "a7f5342b",
   "metadata": {},
   "source": [
    "### OOP (Object-Oriented Programming)\n",
    "\n"
   ]
  },
  {
   "cell_type": "markdown",
   "id": "75eb1e86",
   "metadata": {},
   "source": [
    "\"Python is object oriented programming language\".\n",
    "\n",
    "Almost all the code in python is implemented on a special  structur called classes, which is a code template used to creative objects."
   ]
  },
  {
   "cell_type": "markdown",
   "id": "4441a935",
   "metadata": {},
   "source": [
    "#### Class"
   ]
  },
  {
   "cell_type": "markdown",
   "id": "4f9e1dd0",
   "metadata": {},
   "source": [
    "Class is like a blue print or a code template, used to creative Objects"
   ]
  },
  {
   "cell_type": "markdown",
   "id": "4b46a732",
   "metadata": {},
   "source": [
    "#### Object "
   ]
  },
  {
   "cell_type": "markdown",
   "id": "7ba07121",
   "metadata": {},
   "source": [
    "An Object contains attributes or variables and methods, we use objects of a class to perform actions."
   ]
  },
  {
   "cell_type": "markdown",
   "id": "ca097bac",
   "metadata": {},
   "source": [
    "Object as 2 characteristics:\n",
    "\n",
    "States and Behavior\n",
    "\n",
    "* Attributes represents its State.\n",
    "* Methods represents its Behavior.\n",
    "\n",
    "Using its Methods we can modify its State."
   ]
  },
  {
   "cell_type": "markdown",
   "id": "4777f09b",
   "metadata": {},
   "source": [
    "#### Properties of Object:"
   ]
  },
  {
   "cell_type": "markdown",
   "id": "249520df",
   "metadata": {},
   "source": [
    "#### Identity:\n",
    "\n",
    "Every object has an indvidual Identity."
   ]
  },
  {
   "cell_type": "markdown",
   "id": "0321a03c",
   "metadata": {},
   "source": [
    "#### State:\n",
    "An object has an attribute to represent its state and reflects the property of an Object.\n"
   ]
  },
  {
   "cell_type": "markdown",
   "id": "d89042d2",
   "metadata": {},
   "source": [
    "#### Behavior:\n",
    "An object has a methods that represents its Behavior."
   ]
  },
  {
   "cell_type": "markdown",
   "id": "339e20bd",
   "metadata": {},
   "source": [
    " * As we know Python is an OOP language, so every thing in Python is treated like an Object.\n",
    " *  An objecct is a real  life  entity.\n",
    " *  An object collects various Data and functions that operate on those data."
   ]
  },
  {
   "cell_type": "markdown",
   "id": "3c33d90f",
   "metadata": {},
   "source": [
    "#### Creating a Class in Python."
   ]
  },
  {
   "cell_type": "code",
   "execution_count": 4,
   "id": "91dde344",
   "metadata": {},
   "outputs": [],
   "source": [
    "class Person:\n",
    "    def _init_(self,Name,Sex,Place):\n",
    "        self.Name= Name\n",
    "        self.Sex= Sex\n",
    "        self.Place=Place\n",
    "    \n",
    "    def show(self):\n",
    "        print('Name:', self.Name, 'Sex:', self.Sex, 'Place:', self.Place)\n",
    "        \n",
    "    def detailed(self):\n",
    "        print(self.Name,\"stayed at\",self.place)"
   ]
  },
  {
   "cell_type": "markdown",
   "id": "b41b7d47",
   "metadata": {},
   "source": [
    "#### Creating Object of a Class."
   ]
  },
  {
   "cell_type": "markdown",
   "id": "399b7591",
   "metadata": {},
   "source": [
    "When we create an Object to the class, it becomes instantiation and the object becomes an instance.\n",
    "\n",
    "* Creating an Object has 2 parts:\n",
    "\n",
    "1.Object Creation.\n",
    "2.Object initialization."
   ]
  },
  {
   "cell_type": "markdown",
   "id": "e4f8fc80",
   "metadata": {},
   "source": [
    "Syntax\n",
    "\n",
    "object-name = class-name(arguments)  "
   ]
  },
  {
   "cell_type": "code",
   "execution_count": 4,
   "id": "ac5a8b8c",
   "metadata": {},
   "outputs": [
    {
     "name": "stdout",
     "output_type": "stream",
     "text": [
      "Name: Rana Sex:  Male Place:  Hyderabad\n",
      "Rana stay's at  Hyderabad\n"
     ]
    }
   ],
   "source": [
    "class Person:\n",
    "    def __init__(self,Name,Sex,Place):\n",
    "        self.Name= Name\n",
    "        self.Sex= Sex\n",
    "        self.Place= Place\n",
    "    \n",
    "    def show(self):\n",
    "        print('Name:', self.Name, 'Sex:', self.Sex, 'Place:', self.Place)\n",
    "        \n",
    "    def detailed(self):\n",
    "        print(self.Name,\"stay's at\",self.Place)\n",
    "        \n",
    "#creating an Object\n",
    "\n",
    "Rana = Person('Rana' , ' Male' , ' Hyderabad')\n",
    "\n",
    "#call Methods\n",
    "\n",
    "Rana.show()\n",
    "Rana.detailed()"
   ]
  },
  {
   "cell_type": "code",
   "execution_count": null,
   "id": "930ca718",
   "metadata": {},
   "outputs": [],
   "source": [
    ".."
   ]
  }
 ],
 "metadata": {
  "kernelspec": {
   "display_name": "Python 3 (ipykernel)",
   "language": "python",
   "name": "python3"
  },
  "language_info": {
   "codemirror_mode": {
    "name": "ipython",
    "version": 3
   },
   "file_extension": ".py",
   "mimetype": "text/x-python",
   "name": "python",
   "nbconvert_exporter": "python",
   "pygments_lexer": "ipython3",
   "version": "3.10.0"
  }
 },
 "nbformat": 4,
 "nbformat_minor": 5
}
