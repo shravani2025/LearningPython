{
 "cells": [
  {
   "cell_type": "markdown",
   "id": "a7f5342b",
   "metadata": {},
   "source": [
    "### OOP (Object-Oriented Programming)\n",
    "\n"
   ]
  },
  {
   "cell_type": "markdown",
   "id": "6e9a0d67",
   "metadata": {},
   "source": [
    "## Classes\n",
    "\n",
    "* Used for making complicated codes more managable and maintainable.\n",
    "\n",
    "* Classes are used to create User-defined Data Structures.\n",
    "\n",
    "* They also have functions called \"Methods\", that defines the action and behaviorthat an object created from classes. \n",
    "\n",
    "* Class just provides structure and defines the needed information."
   ]
  },
  {
   "cell_type": "code",
   "execution_count": null,
   "id": "27343e58",
   "metadata": {},
   "outputs": [],
   "source": []
  }
 ],
 "metadata": {
  "kernelspec": {
   "display_name": "Python 3 (ipykernel)",
   "language": "python",
   "name": "python3"
  },
  "language_info": {
   "codemirror_mode": {
    "name": "ipython",
    "version": 3
   },
   "file_extension": ".py",
   "mimetype": "text/x-python",
   "name": "python",
   "nbconvert_exporter": "python",
   "pygments_lexer": "ipython3",
   "version": "3.10.0"
  }
 },
 "nbformat": 4,
 "nbformat_minor": 5
}
