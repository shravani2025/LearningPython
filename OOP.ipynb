{
 "cells": [
  {
   "cell_type": "markdown",
   "id": "a7f5342b",
   "metadata": {},
   "source": [
    "### OOP (Object-Oriented Programming)\n",
    "\n"
   ]
  },
  {
   "cell_type": "markdown",
   "id": "b0ae5b63",
   "metadata": {},
   "source": [
    "\"Python is object oriented programming language\".\n",
    "\n",
    "Almost all the code in python is implemented on a special  structur called classes, which is code template used to creative objects."
   ]
  },
  {
   "cell_type": "markdown",
   "id": "9649b539",
   "metadata": {},
   "source": [
    "#### Code"
   ]
  },
  {
   "cell_type": "markdown",
   "id": "0a358a17",
   "metadata": {},
   "source": [
    "CODE is like a blue print or a template, used to creative Objects"
   ]
  },
  {
   "cell_type": "markdown",
   "id": "fb582243",
   "metadata": {},
   "source": [
    "#### Object "
   ]
  },
  {
   "cell_type": "markdown",
   "id": "84001d05",
   "metadata": {},
   "source": [
    "An Object contains attributes or variables and methods, we use objects of a class to perform actions."
   ]
  },
  {
   "cell_type": "markdown",
   "id": "c2cecc58",
   "metadata": {},
   "source": [
    "Object as 2 characteristics:\n",
    "\n",
    "States and Behavior\n",
    "\n",
    "* Attributes represents its State.\n",
    "* Methods represents its Behavior.\n",
    "\n",
    "Using its Methods we can modify its State."
   ]
  },
  {
   "cell_type": "code",
   "execution_count": null,
   "id": "da71734e",
   "metadata": {},
   "outputs": [],
   "source": []
  }
 ],
 "metadata": {
  "kernelspec": {
   "display_name": "Python 3 (ipykernel)",
   "language": "python",
   "name": "python3"
  },
  "language_info": {
   "codemirror_mode": {
    "name": "ipython",
    "version": 3
   },
   "file_extension": ".py",
   "mimetype": "text/x-python",
   "name": "python",
   "nbconvert_exporter": "python",
   "pygments_lexer": "ipython3",
   "version": "3.10.0"
  }
 },
 "nbformat": 4,
 "nbformat_minor": 5
}
