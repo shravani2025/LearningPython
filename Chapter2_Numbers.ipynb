{
 "cells": [
  {
   "cell_type": "markdown",
   "id": "7e536b64",
   "metadata": {},
   "source": [
    "# Numbers"
   ]
  },
  {
   "cell_type": "markdown",
   "id": "e780e2dc",
   "metadata": {},
   "source": [
    "### Arithmetics"
   ]
  },
  {
   "cell_type": "markdown",
   "id": "f506c5c4",
   "metadata": {},
   "source": [
    " An Integer is a whole number with no decimal points.\n"
   ]
  },
  {
   "cell_type": "code",
   "execution_count": 16,
   "id": "9d40c102",
   "metadata": {},
   "outputs": [
    {
     "data": {
      "text/plain": [
       "0.5"
      ]
     },
     "execution_count": 16,
     "metadata": {},
     "output_type": "execute_result"
    }
   ],
   "source": [
    "# Integer in short int.\n",
    "# int(45)\n",
    "# Floating point number in short float.\n",
    "# float is a number with decimal place. \n",
    "# float(-4.59)\n",
    "\n",
    "# Operators +,-,*,/\n",
    "\n",
    "Add=1+2\n",
    "Add\n",
    "Sub=1-2.5\n",
    "Sub\n",
    "Multi=3*2\n",
    "Multi\n",
    "Div=2/4\n",
    "Div\n",
    "\n",
    "# If one operand is float the result is always float \n",
    "# If you want the result in integer apply int()\n"
   ]
  },
  {
   "cell_type": "code",
   "execution_count": 21,
   "id": "03687851",
   "metadata": {},
   "outputs": [
    {
     "data": {
      "text/plain": [
       "6"
      ]
     },
     "execution_count": 21,
     "metadata": {},
     "output_type": "execute_result"
    }
   ],
   "source": [
    "# To raise a number to power use the ** operator.\n",
    "2**67\n",
    "# % the modulus operator returns the remainder by diving the left operand by the right operand.\n",
    "# To get the remainder(r) python uses the equation r=x-(y*(x//y)) \n",
    "20%7"
   ]
  },
  {
   "cell_type": "markdown",
   "id": "8ddd9305",
   "metadata": {},
   "source": [
    "Arithmetics Expressions\n"
   ]
  },
  {
   "cell_type": "code",
   "execution_count": 25,
   "id": "e828c633",
   "metadata": {},
   "outputs": [
    {
     "data": {
      "text/plain": [
       "5"
      ]
     },
     "execution_count": 25,
     "metadata": {},
     "output_type": "execute_result"
    }
   ],
   "source": [
    "# You can combine operators to form a complex expressions.\n",
    "# Expression is a combination of numbers, operator  and parentheses that python can compute or return a value.\n",
    "\n",
    "2-8*9\n",
    "#  *,/,// and % have higher precedenc than + and - operator.\n",
    "2*3-1 \n",
    "# The result is 5 not 4, because 2*3 is executed first."
   ]
  },
  {
   "cell_type": "markdown",
   "id": "53caea8a",
   "metadata": {},
   "source": [
    "### Math functions and Number Methods\n"
   ]
  },
  {
   "cell_type": "markdown",
   "id": "0c686f07",
   "metadata": {},
   "source": [
    "\n",
    "Python has few built-in functions to work with numbers.\n",
    "\n",
    "1.round() to round the number to nearest integer.\n",
    "2.ads() to get the abosulte value of the number.\n",
    "3.pow() to raise the power of the given number.\n",
    "\n"
   ]
  },
  {
   "cell_type": "markdown",
   "id": "1c1e4ebe",
   "metadata": {},
   "source": [
    "### The round() function.\n"
   ]
  },
  {
   "cell_type": "code",
   "execution_count": 32,
   "id": "13df6e8b",
   "metadata": {},
   "outputs": [
    {
     "data": {
      "text/plain": [
       "2.679"
      ]
     },
     "execution_count": 32,
     "metadata": {},
     "output_type": "execute_result"
    }
   ],
   "source": [
    "#round(2.4) is 2\n",
    "# round(2.6) is 2\n",
    "# round(2.5) is 2 and (3.5) is 4 because the round operator considers the left digit value.\n",
    "# if its even then it rounds down, if its odd it rounds up.\n",
    "\n",
    "#you can round up the value with second argument.\n",
    "round(2.67889,3) #cannot have the second argument to be a float value."
   ]
  },
  {
   "cell_type": "markdown",
   "id": "c6093f7b",
   "metadata": {},
   "source": [
    "### The abs() function.\n"
   ]
  },
  {
   "cell_type": "code",
   "execution_count": 35,
   "id": "fc0a822a",
   "metadata": {},
   "outputs": [
    {
     "data": {
      "text/plain": [
       "52.4"
      ]
     },
     "execution_count": 35,
     "metadata": {},
     "output_type": "execute_result"
    }
   ],
   "source": [
    "abs(-52.4)\n",
    "# The absolute value any given int or float number is always a positive int or float."
   ]
  },
  {
   "cell_type": "markdown",
   "id": "2c4b88c7",
   "metadata": {},
   "source": [
    "### The pow() function.\n"
   ]
  },
  {
   "cell_type": "code",
   "execution_count": 53,
   "id": "48e2c9d6",
   "metadata": {},
   "outputs": [
    {
     "data": {
      "text/plain": [
       "0"
      ]
     },
     "execution_count": 53,
     "metadata": {},
     "output_type": "execute_result"
    }
   ],
   "source": [
    "pow(2,-3)\n",
    "# You can use the ** operator to raise the value and also the pow() funcion.\n",
    "# The first is base and the second argument is the exponent, the exponent can be negative.\n",
    "# pow() function takes 3rd arguments (x,y,z) as (x**y)%z.\n",
    "pow(2,3,8)"
   ]
  },
  {
   "cell_type": "code",
   "execution_count": 65,
   "id": "293ec7f3",
   "metadata": {},
   "outputs": [
    {
     "data": {
      "text/plain": [
       "'The value of n is 5.21454'"
      ]
     },
     "execution_count": 65,
     "metadata": {},
     "output_type": "execute_result"
    }
   ],
   "source": [
    "n=5.21454\n",
    "f\"The value of n is {n}\"\n",
    "f\"The value of n is {n:.3}\"\n",
    "f\"The value of n is {n:,}\"\n"
   ]
  }
 ],
 "metadata": {
  "kernelspec": {
   "display_name": "Python 3 (ipykernel)",
   "language": "python",
   "name": "python3"
  },
  "language_info": {
   "codemirror_mode": {
    "name": "ipython",
    "version": 3
   },
   "file_extension": ".py",
   "mimetype": "text/x-python",
   "name": "python",
   "nbconvert_exporter": "python",
   "pygments_lexer": "ipython3",
   "version": "3.10.0"
  }
 },
 "nbformat": 4,
 "nbformat_minor": 5
}
