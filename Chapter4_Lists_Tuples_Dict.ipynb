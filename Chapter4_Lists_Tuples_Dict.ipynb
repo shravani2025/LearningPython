{
 "cells": [
  {
   "cell_type": "markdown",
   "id": "fe230bc5",
   "metadata": {},
   "source": [
    "# Data Structures."
   ]
  },
  {
   "cell_type": "markdown",
   "id": "a06efe78",
   "metadata": {},
   "source": [
    "Modeling the Data to our program interaction using the Data structures.\n"
   ]
  },
  {
   "cell_type": "markdown",
   "id": "b2edc349",
   "metadata": {},
   "source": [
    "1.Lists\n",
    "2.Tuples\n",
    "3.Dictionaries.\n",
    "\n",
    "All the 3 Data strcutures are iterable, means they can be looped over."
   ]
  },
  {
   "cell_type": "markdown",
   "id": "bbdcf08a",
   "metadata": {},
   "source": [
    "# Lists"
   ]
  },
  {
   "cell_type": "markdown",
   "id": "91582756",
   "metadata": {},
   "source": [
    "Lists are mutable , means they can be changed.  Uses [] brackets.\n"
   ]
  },
  {
   "cell_type": "markdown",
   "id": "5b4cf120",
   "metadata": {},
   "source": [
    "Lists values are not required to be same type.[\"one\",2,3.0]example."
   ]
  },
  {
   "cell_type": "code",
   "execution_count": 10,
   "id": "ea8460fb",
   "metadata": {},
   "outputs": [
    {
     "data": {
      "text/plain": [
       "['Eggs', 'Bread', 'Juices']"
      ]
     },
     "execution_count": 10,
     "metadata": {},
     "output_type": "execute_result"
    }
   ],
   "source": [
    "#Creating a list from string using string objct .split()\n",
    "\n",
    "Grocery=\"Eggs,Bread,Juices\"\n",
    "#Grocery_List=Grocery.split(\",\") or (\":\") or (\";\")\n",
    "Grocery_List"
   ]
  },
  {
   "cell_type": "code",
   "execution_count": 12,
   "id": "b0526b40",
   "metadata": {},
   "outputs": [
    {
     "data": {
      "text/plain": [
       "[1, 2, 3]"
      ]
     },
     "execution_count": 12,
     "metadata": {},
     "output_type": "execute_result"
    }
   ],
   "source": [
    "list((1,2,3))"
   ]
  },
  {
   "cell_type": "code",
   "execution_count": 17,
   "id": "c84b41f8",
   "metadata": {},
   "outputs": [
    {
     "data": {
      "text/plain": [
       "['T', 'i', 'g', 'e', 'r']"
      ]
     },
     "execution_count": 17,
     "metadata": {},
     "output_type": "execute_result"
    }
   ],
   "source": [
    "#List from a string\n",
    "list(\"Tiger\")"
   ]
  },
  {
   "cell_type": "markdown",
   "id": "efbbc0c6",
   "metadata": {},
   "source": [
    "### Basic List Operations."
   ]
  },
  {
   "cell_type": "code",
   "execution_count": 1,
   "id": "ed98ff66",
   "metadata": {},
   "outputs": [
    {
     "name": "stdout",
     "output_type": "stream",
     "text": [
      "3\n",
      "6\n",
      "9\n"
     ]
    }
   ],
   "source": [
    "#Index Notation.\n",
    "Points=(1,2,3,4,5,6,7,8,9)\n",
    "Points[1]\n",
    "#New List for exsiting list.\n",
    "Points[2:4]\n",
    "#Checking for list element using 'in' operater.\n",
    "\"Rana\" in Points\n",
    "#Print only even numbers in the list.\n",
    "for Point in Points:\n",
    "    if Point %3==0:\n",
    "        print(Point)\n",
    "    "
   ]
  },
  {
   "cell_type": "markdown",
   "id": "25423d9c",
   "metadata": {},
   "source": [
    "### Changing elements in a list."
   ]
  },
  {
   "cell_type": "markdown",
   "id": "cc9b311e",
   "metadata": {},
   "source": [
    "The abiltiy to swap values in a list for other values is called Mutable. Lists are Mutable."
   ]
  },
  {
   "cell_type": "code",
   "execution_count": 3,
   "id": "a7ee8c74",
   "metadata": {},
   "outputs": [
    {
     "data": {
      "text/plain": [
       "['Red', 'Orange', 'Brown', 'Yellow', 'Blue']"
      ]
     },
     "execution_count": 3,
     "metadata": {},
     "output_type": "execute_result"
    }
   ],
   "source": [
    "#Swaping values in a list to another values using Index Notation.\n",
    "\n",
    "Colors=[\"Red\",\"Pink\",\"Black\",\"Blue\"]\n",
    "Colors[1]='White'\n",
    "Colors\n",
    "\n",
    "# Swaping mutliple values\n",
    "Colors[1:3]='Orange','Brown','Yellow'\n",
    "Colors"
   ]
  },
  {
   "cell_type": "markdown",
   "id": "ebf92e66",
   "metadata": {},
   "source": [
    "### List methods for adding and removing Elements."
   ]
  },
  {
   "cell_type": "code",
   "execution_count": 7,
   "id": "913bf337",
   "metadata": {},
   "outputs": [
    {
     "data": {
      "text/plain": [
       "['Red', 'Pink', 'Black', 'Yellow', 'Blue']"
      ]
     },
     "execution_count": 7,
     "metadata": {},
     "output_type": "execute_result"
    }
   ],
   "source": [
    "# list.insert()\n",
    "Colors=[\"Red\",\"Pink\",\"Black\",\"Blue\"]\n",
    "#Colors.insert(1,'Yellow')\n",
    "Colors.insert(-1,'Yellow')\n",
    "Colors\n"
   ]
  },
  {
   "cell_type": "code",
   "execution_count": 1,
   "id": "e96081a9",
   "metadata": {},
   "outputs": [
    {
     "data": {
      "text/plain": [
       "'Yellow'"
      ]
     },
     "execution_count": 1,
     "metadata": {},
     "output_type": "execute_result"
    }
   ],
   "source": [
    "# list.pop()\n",
    "Colors=['Red', 'Pink', 'Black', 'Yellow', 'Blue']\n",
    "Colors=Colors.pop(3)\n",
    "'Magenta'----------------------Ask deepu.\n",
    "Colors"
   ]
  },
  {
   "cell_type": "code",
   "execution_count": 2,
   "id": "a13cb995",
   "metadata": {},
   "outputs": [
    {
     "data": {
      "text/plain": [
       "['Red', 'Pink', 'Black', 'Yellow', 'Blue']"
      ]
     },
     "execution_count": 2,
     "metadata": {},
     "output_type": "execute_result"
    }
   ],
   "source": [
    "# list.append()\n",
    "Colors=['Red', 'Pink', 'Black', 'Yellow']\n",
    "Colors.append('Blue')\n",
    "Colors"
   ]
  },
  {
   "cell_type": "code",
   "execution_count": 5,
   "id": "ef7abe5d",
   "metadata": {},
   "outputs": [
    {
     "data": {
      "text/plain": [
       "['Pink', 'Black', 'Yellow', 'Red', 'Blue']"
      ]
     },
     "execution_count": 5,
     "metadata": {},
     "output_type": "execute_result"
    }
   ],
   "source": [
    "#list.extend()\n",
    "Colors=['Pink', 'Black', 'Yellow']\n",
    "Colors.extend(['Red','Blue'])\n",
    "Colors\n"
   ]
  },
  {
   "cell_type": "markdown",
   "id": "f6c1d0a0",
   "metadata": {},
   "source": [
    "### List of Numbers."
   ]
  },
  {
   "cell_type": "code",
   "execution_count": 10,
   "id": "1a319db7",
   "metadata": {},
   "outputs": [
    {
     "data": {
      "text/plain": [
       "1"
      ]
     },
     "execution_count": 10,
     "metadata": {},
     "output_type": "execute_result"
    }
   ],
   "source": [
    "#Common operation of List of numbers is to get the sum of the values.\n",
    "#sum([1,2,3,4,5])\n",
    "#max([1,2,3,4,5])\n",
    "min([1,2,3,4,5])"
   ]
  },
  {
   "cell_type": "markdown",
   "id": "37c4e26b",
   "metadata": {},
   "source": [
    "### List Comprehension."
   ]
  },
  {
   "cell_type": "code",
   "execution_count": 7,
   "id": "ac9b3485",
   "metadata": {},
   "outputs": [],
   "source": [
    "A = [1,2,3,4,5,6]\n",
    "B = [6,5,4,3,2,1]"
   ]
  },
  {
   "cell_type": "code",
   "execution_count": 8,
   "id": "c43c3385",
   "metadata": {},
   "outputs": [
    {
     "name": "stdout",
     "output_type": "stream",
     "text": [
      "[1, 4, 9, 16, 25, 36]\n"
     ]
    }
   ],
   "source": [
    "ASquares = []\n",
    "for ele in A:\n",
    "    ASquares.append(ele**2)\n",
    "print(ASquares)"
   ]
  },
  {
   "cell_type": "code",
   "execution_count": 9,
   "id": "e18b131d",
   "metadata": {},
   "outputs": [
    {
     "name": "stdout",
     "output_type": "stream",
     "text": [
      "[1, 4, 9, 16, 25, 36]\n",
      "[1, 8, 27, 64, 125, 216]\n"
     ]
    }
   ],
   "source": [
    "ASquaresListComp = [ele**2 for ele in A]\n",
    "ACubeListComp = [ele**3 for ele in A]\n",
    "print(ASquaresListComp)\n",
    "print(ACubeListComp)"
   ]
  },
  {
   "cell_type": "code",
   "execution_count": 13,
   "id": "6c8faa6e",
   "metadata": {},
   "outputs": [
    {
     "name": "stdout",
     "output_type": "stream",
     "text": [
      "[6, 10, 12, 12, 10, 6]\n"
     ]
    }
   ],
   "source": [
    "MultiplyComp = [x*y for x,y in zip(A,B)]\n",
    "print(MultiplyComp)"
   ]
  },
  {
   "cell_type": "markdown",
   "id": "b8530121",
   "metadata": {},
   "source": [
    "# Tuples "
   ]
  },
  {
   "cell_type": "markdown",
   "id": "f8b17560",
   "metadata": {},
   "source": [
    "Tuple means finite ordered sequence of values.\n",
    "\n",
    "We can’t change the value of an element of a tuple once it has been created.\n",
    "so,its Immutable.\n",
    "\n",
    "Tuples are iterable."
   ]
  },
  {
   "cell_type": "code",
   "execution_count": 14,
   "id": "d5bda0c6",
   "metadata": {},
   "outputs": [
    {
     "data": {
      "text/plain": [
       "tuple"
      ]
     },
     "execution_count": 14,
     "metadata": {},
     "output_type": "execute_result"
    }
   ],
   "source": [
    "my_first_tuple=(1,2.0, \"three\")\n",
    "type(my_first_tuple)\n",
    "\n",
    "# To create the tuple containing the single value 1, you need to include\n",
    "# a comma after the (1,)"
   ]
  },
  {
   "cell_type": "code",
   "execution_count": 18,
   "id": "6a6e7532",
   "metadata": {},
   "outputs": [
    {
     "data": {
      "text/plain": [
       "(2, 3)"
      ]
     },
     "execution_count": 18,
     "metadata": {},
     "output_type": "execute_result"
    }
   ],
   "source": [
    "#Slicing notation also works with Tuples.\n",
    "\n",
    "Values=(1,2,3,4,5)\n",
    "Values[1:3]"
   ]
  },
  {
   "cell_type": "code",
   "execution_count": 22,
   "id": "dd737a2d",
   "metadata": {},
   "outputs": [
    {
     "name": "stdout",
     "output_type": "stream",
     "text": [
      "A\n",
      "E\n",
      "I\n",
      "O\n",
      "U\n"
     ]
    }
   ],
   "source": [
    "Vowels=('a','e','i','o','u')\n",
    "for Vowels in Vowels:\n",
    "        print(Vowels.upper())"
   ]
  },
  {
   "cell_type": "code",
   "execution_count": 23,
   "id": "e8ac5e18",
   "metadata": {},
   "outputs": [
    {
     "data": {
      "text/plain": [
       "tuple"
      ]
     },
     "execution_count": 23,
     "metadata": {},
     "output_type": "execute_result"
    }
   ],
   "source": [
    "#Tuple packing\n",
    "\n",
    "Coordi=12.4,56,8\n",
    "type(Coordi)"
   ]
  },
  {
   "cell_type": "code",
   "execution_count": 27,
   "id": "9819992e",
   "metadata": {},
   "outputs": [
    {
     "data": {
      "text/plain": [
       "13"
      ]
     },
     "execution_count": 27,
     "metadata": {},
     "output_type": "execute_result"
    }
   ],
   "source": [
    "#Tuple Unpacking\n",
    "\n",
    "Age,Name,State=13,\"Rana\",\"PTC\"\n",
    "Age\n",
    "#Values assigned to the variable must be equal."
   ]
  },
  {
   "cell_type": "code",
   "execution_count": 29,
   "id": "764e42aa",
   "metadata": {},
   "outputs": [
    {
     "data": {
      "text/plain": [
       "False"
      ]
     },
     "execution_count": 29,
     "metadata": {},
     "output_type": "execute_result"
    }
   ],
   "source": [
    "# Checking for existence of values using 'in' operator.\n",
    "\n",
    "Vowels=('a','e','i','o','u')\n",
    "\"o\" in Vowels\n",
    "\n",
    "\"z\"in Vowels"
   ]
  },
  {
   "cell_type": "code",
   "execution_count": 37,
   "id": "61c53df5",
   "metadata": {},
   "outputs": [
    {
     "data": {
      "text/plain": [
       "(9, -3)"
      ]
     },
     "execution_count": 37,
     "metadata": {},
     "output_type": "execute_result"
    }
   ],
   "source": [
    "#One common use of Tuple is to return multipe values from a singel function.\n",
    "\n",
    "def plus_minus(num1,num2):\n",
    "    return(num1+num2,num1-num2)\n",
    "plus_minus(3,6)\n"
   ]
  },
  {
   "cell_type": "markdown",
   "id": "60f372e9",
   "metadata": {},
   "source": [
    "### Nesting, Copying and sorting of Lists and Tuples."
   ]
  },
  {
   "cell_type": "code",
   "execution_count": 6,
   "id": "0bd84340",
   "metadata": {},
   "outputs": [
    {
     "data": {
      "text/plain": [
       "2"
      ]
     },
     "execution_count": 6,
     "metadata": {},
     "output_type": "execute_result"
    }
   ],
   "source": [
    "# Nesting\n",
    "\n",
    "two_by_two=[[1,2],[4,5]]\n",
    "two_by_two[0]\n",
    "two_by_two[1]\n",
    "two_by_two[0][1] #Double indexing notation."
   ]
  },
  {
   "cell_type": "code",
   "execution_count": 13,
   "id": "e1ffea37",
   "metadata": {},
   "outputs": [
    {
     "data": {
      "text/plain": [
       "[[1, 2], [3, 4]]"
      ]
     },
     "execution_count": 13,
     "metadata": {},
     "output_type": "execute_result"
    }
   ],
   "source": [
    "# Copying lists\n",
    "\n",
    "Netflix=['365','Spidy','GOT']\n",
    "Series=Netflix\n",
    "Series.append('Friends')\n",
    "Netflix\n",
    "\n",
    "matrix=[[1,2],[3,4]]\n",
    "matrix1=matrix[:]  #Shallow Copy.\n",
    "matrix1[0]=[5,6]\n",
    "# matrix1\n",
    "matrix"
   ]
  },
  {
   "cell_type": "code",
   "execution_count": 17,
   "id": "1d86e711",
   "metadata": {},
   "outputs": [
    {
     "data": {
      "text/plain": [
       "['Red', 'Blue', 'Black', 'Yellow']"
      ]
     },
     "execution_count": 17,
     "metadata": {},
     "output_type": "execute_result"
    }
   ],
   "source": [
    "# Sorting lists\n",
    "\n",
    "# sort the values in ascending order.\n",
    "Num=[4,6,1,9,3]\n",
    "Num.sort()\n",
    "Num\n",
    "\n",
    "Names=['Rana','Deepu','Manu','Likki']\n",
    "Names.sort()\n",
    "Names\n",
    "\n",
    "Colors=['Blue','Red','Yellow','Black']\n",
    "Colors.sort(key=len)\n",
    "Colors"
   ]
  },
  {
   "cell_type": "markdown",
   "id": "ecfe4041",
   "metadata": {},
   "source": [
    "### Store Relationships in Dictionaries."
   ]
  },
  {
   "cell_type": "markdown",
   "id": "2267ce55",
   "metadata": {},
   "source": [
    "One of the most important Data structures in python is Dictionary.\n",
    "\n",
    "Each Dictionary as two parts key and value, the word and the definition of it.\n",
    "Dictionary holds Data in Key-Value pairs."
   ]
  },
  {
   "cell_type": "code",
   "execution_count": 13,
   "id": "ac529721",
   "metadata": {},
   "outputs": [
    {
     "data": {
      "text/plain": [
       "True"
      ]
     },
     "execution_count": 13,
     "metadata": {},
     "output_type": "execute_result"
    }
   ],
   "source": [
    "#Creating a Dictionary\n",
    "\n",
    "Couples={\n",
    "    \"Mom\":\"Dad\",\"Likki\":\"Manu\",\"Deepu\":\"Shravs\"}\n",
    "Couples[\"Deepu\"]=\"Sweetoo\"\n",
    "del Couples[\"Deepu\"]\n",
    "\"Mom\"in Couples"
   ]
  },
  {
   "cell_type": "markdown",
   "id": "cd0464c7",
   "metadata": {},
   "source": [
    "### How to pick a Data Structure."
   ]
  },
  {
   "cell_type": "markdown",
   "id": "a141892b",
   "metadata": {},
   "source": [
    "### For using List\n",
    "\n",
    "When Data has natural order to it.\n",
    "\n",
    "You need to update or alter the Data.\n",
    "\n",
    "Primary need for it is iteration.\n",
    "\n"
   ]
  },
  {
   "cell_type": "markdown",
   "id": "e6efe4b8",
   "metadata": {},
   "source": [
    "### For using Tuple.\n",
    "\n",
    "When Data has natural order to it.\n",
    "\n",
    "NO Need to update or alter the Data.\n",
    "\n",
    "Primary need for it is iteration."
   ]
  },
  {
   "cell_type": "markdown",
   "id": "04715fd0",
   "metadata": {},
   "source": [
    "### For using Dictionary.\n",
    "\n",
    "When Data is not in order.\n",
    "\n",
    "You need to update or alter the Data.\n",
    "\n",
    "Primary need for it is looking up the values."
   ]
  }
 ],
 "metadata": {
  "kernelspec": {
   "display_name": "Python 3 (ipykernel)",
   "language": "python",
   "name": "python3"
  },
  "language_info": {
   "codemirror_mode": {
    "name": "ipython",
    "version": 3
   },
   "file_extension": ".py",
   "mimetype": "text/x-python",
   "name": "python",
   "nbconvert_exporter": "python",
   "pygments_lexer": "ipython3",
   "version": "3.10.0"
  }
 },
 "nbformat": 4,
 "nbformat_minor": 5
}
