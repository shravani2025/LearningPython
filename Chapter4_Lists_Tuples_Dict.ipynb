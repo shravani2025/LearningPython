{
 "cells": [
  {
   "cell_type": "markdown",
   "id": "fe230bc5",
   "metadata": {},
   "source": [
    "# Data Structures."
   ]
  },
  {
   "cell_type": "markdown",
   "id": "a06efe78",
   "metadata": {},
   "source": [
    "Modeling the Data to our program interaction using the Data structures.\n"
   ]
  },
  {
   "cell_type": "markdown",
   "id": "b2edc349",
   "metadata": {},
   "source": [
    "1.Lists\n",
    "2.Tuples\n",
    "3.Dictionaries."
   ]
  },
  {
   "cell_type": "markdown",
   "id": "bbdcf08a",
   "metadata": {},
   "source": [
    "# Lists"
   ]
  },
  {
   "cell_type": "markdown",
   "id": "91582756",
   "metadata": {},
   "source": [
    "Lists are mutable, means they can be changed.  Uses [] brackets.\n"
   ]
  },
  {
   "cell_type": "markdown",
   "id": "5b4cf120",
   "metadata": {},
   "source": [
    "Lists values are not required to be same type.[\"one\",2,3.0]example."
   ]
  },
  {
   "cell_type": "code",
   "execution_count": 10,
   "id": "ea8460fb",
   "metadata": {},
   "outputs": [
    {
     "data": {
      "text/plain": [
       "['Eggs', 'Bread', 'Juices']"
      ]
     },
     "execution_count": 10,
     "metadata": {},
     "output_type": "execute_result"
    }
   ],
   "source": [
    "#Creating a list from string using string objct .split()\n",
    "\n",
    "Grocery=\"Eggs,Bread,Juices\"\n",
    "#Grocery_List=Grocery.split(\",\") or (\":\") or (\";\")\n",
    "Grocery_List"
   ]
  },
  {
   "cell_type": "code",
   "execution_count": 12,
   "id": "b0526b40",
   "metadata": {},
   "outputs": [
    {
     "data": {
      "text/plain": [
       "[1, 2, 3]"
      ]
     },
     "execution_count": 12,
     "metadata": {},
     "output_type": "execute_result"
    }
   ],
   "source": [
    "list((1,2,3))"
   ]
  },
  {
   "cell_type": "code",
   "execution_count": 17,
   "id": "c84b41f8",
   "metadata": {},
   "outputs": [
    {
     "data": {
      "text/plain": [
       "['T', 'i', 'g', 'e', 'r']"
      ]
     },
     "execution_count": 17,
     "metadata": {},
     "output_type": "execute_result"
    }
   ],
   "source": [
    "#List from a string\n",
    "list(\"Tiger\")"
   ]
  },
  {
   "cell_type": "markdown",
   "id": "efbbc0c6",
   "metadata": {},
   "source": [
    "Basic List Operations."
   ]
  },
  {
   "cell_type": "code",
   "execution_count": 28,
   "id": "ed98ff66",
   "metadata": {},
   "outputs": [
    {
     "name": "stdout",
     "output_type": "stream",
     "text": [
      "3\n",
      "6\n",
      "9\n"
     ]
    }
   ],
   "source": [
    "#Index Notation.\n",
    "Points=(1,2,3,4,5,6,7,8,9)\n",
    "Points[1]\n",
    "#New List fro exsiting list.\n",
    "Points[2:4]\n",
    "#Checking for list element using in operater.\n",
    "\"Rana\" in Points\n",
    "#Print only even numbers in the list.\n",
    "for Point in Points:\n",
    "    if Point %3==0:\n",
    "        print(Point)\n",
    "    "
   ]
  },
  {
   "cell_type": "markdown",
   "id": "cc9b311e",
   "metadata": {},
   "source": [
    "To abiltiy to swap values in a list for other values is called Mutable. Lists are Mutable."
   ]
  }
 ],
 "metadata": {
  "kernelspec": {
   "display_name": "Python 3 (ipykernel)",
   "language": "python",
   "name": "python3"
  },
  "language_info": {
   "codemirror_mode": {
    "name": "ipython",
    "version": 3
   },
   "file_extension": ".py",
   "mimetype": "text/x-python",
   "name": "python",
   "nbconvert_exporter": "python",
   "pygments_lexer": "ipython3",
   "version": "3.10.0"
  }
 },
 "nbformat": 4,
 "nbformat_minor": 5
}
