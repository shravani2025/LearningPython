{
 "cells": [
  {
   "cell_type": "markdown",
   "id": "9496bb69",
   "metadata": {},
   "source": [
    "# Functions and Loops"
   ]
  },
  {
   "cell_type": "markdown",
   "id": "9ec304ca",
   "metadata": {},
   "source": [
    " * Functions are values that can be assinged by variables, len(),input()etc.\n",
    " \n",
    " * Functions expects an arguments which are values that are passed to fuctions as inputs.\n",
    " \n",
    " * Some functions expect single arguments and some expect more.\n",
    " \n",
    " * The execution process of a function is in 3 types, a function is called or executed or returns."
   ]
  },
  {
   "cell_type": "code",
   "execution_count": 12,
   "id": "ffbbe4d7",
   "metadata": {},
   "outputs": [
    {
     "name": "stdout",
     "output_type": "stream",
     "text": [
      "8\n"
     ]
    }
   ],
   "source": [
    "# Example for user defined function(Multiply).\n",
    "\n",
    "def multiply(x,y):\n",
    "    product=x*y\n",
    "    return product\n",
    "\n",
    "num = multiply(2,4)\n",
    "print(num)"
   ]
  },
  {
   "cell_type": "code",
   "execution_count": 1,
   "id": "88fc3aed",
   "metadata": {},
   "outputs": [
    {
     "name": "stdout",
     "output_type": "stream",
     "text": [
      "Hello, Rana!\n"
     ]
    }
   ],
   "source": [
    "#Function with no return statement.\n",
    "\n",
    "def greet(Name):\n",
    "     print(f\"Hello, {Name}!\")\n",
    "greet(\"Rana\")  \n"
   ]
  },
  {
   "cell_type": "markdown",
   "id": "f9b19712",
   "metadata": {},
   "source": [
    "### Loops\n"
   ]
  },
  {
   "cell_type": "markdown",
   "id": "41283f32",
   "metadata": {},
   "source": [
    "Loop is a block of code that gets executed repeatedly.\n",
    "\n",
    "Two types of Loops\n",
    "\n",
    " 1.While Loops\n",
    " 2.For Loops\n",
    " \n",
    "Infinite loop happens when the test condition is always true."
   ]
  },
  {
   "cell_type": "markdown",
   "id": "6cdd8c41",
   "metadata": {},
   "source": [
    "### While Loop"
   ]
  },
  {
   "cell_type": "markdown",
   "id": "d8fb82d5",
   "metadata": {},
   "source": [
    "* While loop is executed in some conditions if its true.\n",
    "\n",
    "* Switch = 1 --for loop to continue.\n",
    "* Switch = 0 --is to stop the loop.\n"
   ]
  },
  {
   "cell_type": "code",
   "execution_count": 4,
   "id": "90f34848",
   "metadata": {},
   "outputs": [
    {
     "name": "stdout",
     "output_type": "stream",
     "text": [
      "1\n",
      "2\n",
      "3\n",
      "4\n"
     ]
    }
   ],
   "source": [
    "\n",
    "n=1\n",
    "while n<5:\n",
    "    print(n)\n",
    "    n=n+1\n",
    "    "
   ]
  },
  {
   "cell_type": "code",
   "execution_count": 1,
   "id": "b89cda17",
   "metadata": {},
   "outputs": [
    {
     "name": "stdout",
     "output_type": "stream",
     "text": [
      "Some positive number:6\n"
     ]
    }
   ],
   "source": [
    "n=float(input(\"Some positive number:\"))\n",
    "while n<0:\n",
    "    print(n)\n",
    "    input=(\"Some positive number:\")"
   ]
  },
  {
   "cell_type": "markdown",
   "id": "21ce5ee0",
   "metadata": {},
   "source": [
    "### For Loop"
   ]
  },
  {
   "cell_type": "code",
   "execution_count": 23,
   "id": "412b45a3",
   "metadata": {},
   "outputs": [
    {
     "name": "stdout",
     "output_type": "stream",
     "text": [
      "Deep\n",
      "peeD\n",
      "peeD\n",
      "peeD\n",
      "peeD\n"
     ]
    }
   ],
   "source": [
    "#For Loop executes a section of code once for each item in colection.\n",
    "#execution of code is dependent on the items in a collection.\n",
    "\n",
    "Name=input()\n",
    "for ele in Name:\n",
    "    print(Name[::-1])\n"
   ]
  },
  {
   "cell_type": "code",
   "execution_count": 2,
   "id": "1eaefa36",
   "metadata": {},
   "outputs": [],
   "source": [
    "a=[1,2.3]\n",
    "b=[3,5,-9]"
   ]
  },
  {
   "cell_type": "code",
   "execution_count": 3,
   "id": "c0ad4756",
   "metadata": {},
   "outputs": [
    {
     "name": "stdout",
     "output_type": "stream",
     "text": [
      "[1, 5.289999999999999]\n",
      "[9, 25, 81]\n"
     ]
    }
   ],
   "source": [
    "emp_lis=[]\n",
    "emp_li=[]\n",
    "for ele in a:\n",
    "    emp_lis.append(ele**2)\n",
    "for ele in b:    \n",
    "    emp_li.append(ele**2)\n",
    "print(emp_lis)\n",
    "print(emp_li)"
   ]
  },
  {
   "cell_type": "markdown",
   "id": "09d8513d",
   "metadata": {},
   "source": [
    "### Nested Loop"
   ]
  },
  {
   "cell_type": "markdown",
   "id": "13411fc7",
   "metadata": {},
   "source": [
    "Loop inside a Loop is called Nested Loop."
   ]
  },
  {
   "cell_type": "code",
   "execution_count": 4,
   "id": "d335749d",
   "metadata": {},
   "outputs": [
    {
     "name": "stdout",
     "output_type": "stream",
     "text": [
      "i=1 and j=4\n",
      "i=1 and j=5\n",
      "i=1 and j=6\n",
      "i=2 and j=4\n",
      "i=2 and j=5\n",
      "i=2 and j=6\n",
      "i=3 and j=4\n",
      "i=3 and j=5\n",
      "i=3 and j=6\n"
     ]
    }
   ],
   "source": [
    "for i in range(1,4):\n",
    "    for j in range(4,7):\n",
    "        print(f\"i={i} and j={j}\")\n",
    "        "
   ]
  },
  {
   "cell_type": "code",
   "execution_count": null,
   "id": "e01ba47a",
   "metadata": {},
   "outputs": [],
   "source": []
  }
 ],
 "metadata": {
  "kernelspec": {
   "display_name": "Python 3 (ipykernel)",
   "language": "python",
   "name": "python3"
  },
  "language_info": {
   "codemirror_mode": {
    "name": "ipython",
    "version": 3
   },
   "file_extension": ".py",
   "mimetype": "text/x-python",
   "name": "python",
   "nbconvert_exporter": "python",
   "pygments_lexer": "ipython3",
   "version": "3.10.0"
  }
 },
 "nbformat": 4,
 "nbformat_minor": 5
}
